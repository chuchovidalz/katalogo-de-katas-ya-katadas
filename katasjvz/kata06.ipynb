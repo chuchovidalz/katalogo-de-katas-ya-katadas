{
 "cells": [
  {
   "cell_type": "markdown",
   "metadata": {},
   "source": [
    "# Listas\n",
    "1. Ejercicio 1"
   ]
  },
  {
   "cell_type": "code",
   "execution_count": 3,
   "metadata": {},
   "outputs": [
    {
     "name": "stdout",
     "output_type": "stream",
     "text": [
      "Existen 8 planetas en el Sistema Solar\n",
      "Pluton es el ultimo \"planeta\"\n"
     ]
    }
   ],
   "source": [
    "planetas = ['Mercurio', 'Venus', 'Tierra', 'Marte', 'Jupiter', 'Saturno', 'Urano', 'Neptuno']\n",
    "\n",
    "print('Existen', len(planetas), 'planetas en el Sistema Solar')\n",
    "\n",
    "planetas.append('Pluton')\n",
    "\n",
    "print(planetas[-1], 'es el ultimo \"planeta\"')"
   ]
  },
  {
   "cell_type": "markdown",
   "metadata": {},
   "source": [
    "2. Ejercicio 2"
   ]
  },
  {
   "cell_type": "code",
   "execution_count": 4,
   "metadata": {},
   "outputs": [
    {
     "name": "stdout",
     "output_type": "stream",
     "text": [
      "Planetas más cercanos al sol que Marte\n",
      "['Mercurio', 'Venus', 'Tierra']\n",
      "Planetas mas alejados del sol que Marte\n",
      "['Jupiter', 'Saturno', 'Urano', 'Neptuno']\n"
     ]
    }
   ],
   "source": [
    "planetas = ['Mercurio', 'Venus', 'Tierra', 'Marte', 'Jupiter', 'Saturno', 'Urano', 'Neptuno']\n",
    "\n",
    "planeta_solicitado = input(\"Nombre del planeta: \")\n",
    "\n",
    "busca_planeta = planetas.index(planeta_solicitado)\n",
    "\n",
    "print('Planetas más cercanos al sol que ' + planeta_solicitado)\n",
    "print(planetas[0:busca_planeta])\n",
    "\n",
    "print('Planetas mas alejados del sol que ' + planeta_solicitado)\n",
    "print(planetas[busca_planeta + 1:])"
   ]
  }
 ],
 "metadata": {
  "interpreter": {
   "hash": "5d240ba0dc525c389faa33f5dcce5b4f32b6d6aa6d70d6d2dd929bd2b09ab69f"
  },
  "kernelspec": {
   "display_name": "Python 3.10.2 64-bit",
   "language": "python",
   "name": "python3"
  },
  "language_info": {
   "codemirror_mode": {
    "name": "ipython",
    "version": 3
   },
   "file_extension": ".py",
   "mimetype": "text/x-python",
   "name": "python",
   "nbconvert_exporter": "python",
   "pygments_lexer": "ipython3",
   "version": "3.10.2"
  },
  "orig_nbformat": 4
 },
 "nbformat": 4,
 "nbformat_minor": 2
}
