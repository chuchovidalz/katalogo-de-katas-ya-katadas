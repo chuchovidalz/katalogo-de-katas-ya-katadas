{
 "cells": [
  {
   "cell_type": "markdown",
   "metadata": {},
   "source": [
    "## kata3 las weas booleanas"
   ]
  },
  {
   "cell_type": "code",
   "execution_count": null,
   "metadata": {},
   "outputs": [],
   "source": [
    "a = 1\n",
    "b = 2\n",
    "c = 3\n",
    "\n",
    "if a>b:\n",
    "    print(a)\n",
    "    if a>c:\n",
    "        print(a)\n",
    "    else: \n",
    "        print(c)\n",
    "elif b>c:\n",
    "    print(b)\n",
    "else:\n",
    "    print(\"esto se imprime cuando ninguna condicion se cumple\")"
   ]
  },
  {
   "cell_type": "markdown",
   "metadata": {},
   "source": [
    "# problema 1"
   ]
  },
  {
   "cell_type": "code",
   "execution_count": null,
   "metadata": {},
   "outputs": [],
   "source": [
    "asteroide = 49\n",
    "if asteroide > 25:\n",
    "    print(\"ya bailó Bertha! recen lo que se sepan.\")\n",
    "else:\n",
    "    print(\"Otro día más de vida\")"
   ]
  },
  {
   "cell_type": "markdown",
   "metadata": {},
   "source": [
    "# problema 2"
   ]
  },
  {
   "cell_type": "code",
   "execution_count": 17,
   "metadata": {},
   "outputs": [
    {
     "name": "stdout",
     "output_type": "stream",
     "text": [
      "Todo tranqui...\n"
     ]
    }
   ],
   "source": [
    "asteroide = 19\n",
    "if asteroide > 25:\n",
    "    print(\"ya bailó Bertha! recen lo que se sepan.\")\n",
    "elif asteroide >= 20:\n",
    "    print(\"Asteroide inofensivo entrando a la atmósfera, se sugiere ver el rayo de luz que provoca.\")\n",
    "else:\n",
    "    print(\"Todo tranqui...\")   "
   ]
  },
  {
   "cell_type": "markdown",
   "metadata": {},
   "source": [
    "# problema 3"
   ]
  },
  {
   "cell_type": "code",
   "execution_count": 20,
   "metadata": {},
   "outputs": [
    {
     "name": "stdout",
     "output_type": "stream",
     "text": [
      "Asteroide inofensivo entrando a la atmósfera, se sugiere ver el rayo de luz que provoca.\n"
     ]
    }
   ],
   "source": [
    "v_asteroide = 21\n",
    "t_asteroide = 20\n",
    "\n",
    "if (v_asteroide > 25 and t_asteroide > 25) or t_asteroide >25:\n",
    "    print(\"ya bailó Bertha! recen lo que se sepan.\")\n",
    "elif v_asteroide >= 20 and t_asteroide <= 25:\n",
    "    print(\"Asteroide inofensivo entrando a la atmósfera, se sugiere ver el rayo de luz que provoca.\")\n",
    "else:\n",
    "    print(\"Todo tranqui...\")   "
   ]
  }
 ],
 "metadata": {
  "interpreter": {
   "hash": "5d240ba0dc525c389faa33f5dcce5b4f32b6d6aa6d70d6d2dd929bd2b09ab69f"
  },
  "kernelspec": {
   "display_name": "Python 3.10.2 64-bit",
   "language": "python",
   "name": "python3"
  },
  "language_info": {
   "codemirror_mode": {
    "name": "ipython",
    "version": 3
   },
   "file_extension": ".py",
   "mimetype": "text/x-python",
   "name": "python",
   "nbconvert_exporter": "python",
   "pygments_lexer": "ipython3",
   "version": "3.10.2"
  },
  "orig_nbformat": 4
 },
 "nbformat": 4,
 "nbformat_minor": 2
}
