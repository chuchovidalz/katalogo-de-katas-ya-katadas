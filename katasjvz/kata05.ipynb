{
 "cells": [
  {
   "cell_type": "markdown",
   "metadata": {},
   "source": [
    "# Operadores aritmeticos\n",
    "Ejercicio 1"
   ]
  },
  {
   "cell_type": "code",
   "execution_count": 1,
   "metadata": {},
   "outputs": [
    {
     "name": "stdout",
     "output_type": "stream",
     "text": [
      "628949330\n",
      "390577533.93\n"
     ]
    }
   ],
   "source": [
    "tierra = 149597870\n",
    "jupiter = 778547200\n",
    "\n",
    "distancia = jupiter - tierra\n",
    "print(distancia)\n",
    "\n",
    "millas = distancia * 0.621\n",
    "print(millas)"
   ]
  },
  {
   "cell_type": "markdown",
   "metadata": {},
   "source": [
    "Ejercicio 2"
   ]
  },
  {
   "cell_type": "code",
   "execution_count": 2,
   "metadata": {},
   "outputs": [
    {
     "name": "stdout",
     "output_type": "stream",
     "text": [
      "332667000\n",
      "206586207.0\n"
     ]
    }
   ],
   "source": [
    "planeta1 = input('Distancia desde el sol para el primer planeta: ')\n",
    "planeta2 = input('Distancia desde el sol para el segundo planeta: ')\n",
    "\n",
    "planeta1 = int(planeta1)\n",
    "planeta2 = int(planeta2)\n",
    "\n",
    "distkm = planeta2 - planeta1\n",
    "print(distkm)\n",
    "\n",
    "distmi = distkm * 0.621\n",
    "print(abs(distmi))"
   ]
  }
 ],
 "metadata": {
  "interpreter": {
   "hash": "5d240ba0dc525c389faa33f5dcce5b4f32b6d6aa6d70d6d2dd929bd2b09ab69f"
  },
  "kernelspec": {
   "display_name": "Python 3.10.2 64-bit",
   "language": "python",
   "name": "python3"
  },
  "language_info": {
   "codemirror_mode": {
    "name": "ipython",
    "version": 3
   },
   "file_extension": ".py",
   "mimetype": "text/x-python",
   "name": "python",
   "nbconvert_exporter": "python",
   "pygments_lexer": "ipython3",
   "version": "3.10.2"
  },
  "orig_nbformat": 4
 },
 "nbformat": 4,
 "nbformat_minor": 2
}
